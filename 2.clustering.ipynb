{
 "cells": [
  {
   "cell_type": "markdown",
   "id": "86c773a7-0575-48dd-a5f0-2ec3a6e82f06",
   "metadata": {},
   "source": [
    "## FOSS4G Belem - Brazil 2024\n",
    "## Workshop\n",
    "### Setting the scene - Machine learning  an intro\n",
    "\n",
    "**Dr. Rosa Aguilar**<br>\n",
    "r.aguilar@utwente.nl<br>\n",
    "https://www.linkedin.com/in/rosamaguilar/<br>\n",
    "\n",
    "**Part 2 - Clustering** <br>\n",
    "\n",
    "In this notebook, we will conduct a regionalization (clustering) based on\n",
    "physical variables such as the Land Surface Temperature (LST),\n",
    "Vegetation Indices (EVI/NDVI) and water index (NDWI).\n",
    "\n",
    "The steps are as follows: <br>\n",
    "<ol>\n",
    "    <li>Aggregating temporal variables</li>\n",
    "    <li>Create a datacube with the aggregates</li>\n",
    "    <li>Executing a k-means clustering</li>\n",
    "    <li>Inspecting results and elbow method</li>\n",
    "</ol>"
   ]
  },
  {
   "cell_type": "code",
   "execution_count": null,
   "id": "e81ae8a1-6cea-4496-b374-42a6fe104836",
   "metadata": {},
   "outputs": [],
   "source": [
    "# import libraries\n",
    "\n",
    "import matplotlib.pyplot as plt\n",
    "import numpy as np\n",
    "\n",
    "from datetime import datetime\n",
    "import rasterio\n",
    "from rasterio.plot import show\n",
    "from rasterio.transform import from_origin\n",
    "\n",
    "from sklearn.preprocessing import MinMaxScaler\n",
    "\n",
    "from sklearn.metrics import r2_score, mean_absolute_error, mean_squared_error\n",
    "\n",
    "from sklearn.impute import SimpleImputer\n",
    "\n",
    "from sklearn.cluster import KMeans\n",
    "from sklearn.ensemble import RandomForestRegressor"
   ]
  },
  {
   "cell_type": "code",
   "execution_count": null,
   "id": "6e02958e-821d-4262-879f-428f3518d1db",
   "metadata": {},
   "outputs": [],
   "source": [
    "# define a function to create the datacube\n",
    "def create_datacube(date):\n",
    "    # Read all the raster data for a specific day\n",
    "    # Data format = '2021_01_23'\n",
    "    imp_mean = SimpleImputer(missing_values=np.nan, strategy='mean')\n",
    "    \n",
    "    NDVI = rasterio.open('./belem/NDVI/' + date +'.NDVI.tif').read(1)\n",
    "    imp_mean.fit(NDVI)\n",
    "    NDVI = imp_mean.transform(NDVI)\n",
    "    \n",
    "    EVI = rasterio.open('./belem/EVI/' + date +'.EVI.tif').read(1)\n",
    "    imp_mean.fit(EVI)\n",
    "    EVI = imp_mean.transform(EVI)\n",
    "    \n",
    "    LST = rasterio.open('./belem/LST/' + date +'.LST_Day_1km.tif').read(1)\n",
    "    imp_mean.fit(LST)\n",
    "    LST = imp_mean.transform(LST)\n",
    "    \n",
    "    NDWI = rasterio.open('./belem/NDWI/' + date +'.NDWI.tif').read(1)\n",
    "    imp_mean.fit(NDWI)\n",
    "    NDWI = imp_mean.transform(NDWI)\n",
    "    \n",
    "    # transform LST to obtain values in Celsius grades \n",
    "    mean = int(LST.mean())\n",
    "    LST[LST < 7500] = mean\n",
    "    LST = LST*0.02 - 273.15\n",
    "    stack = np.stack([NDVI,EVI,NDWI,LST])\n",
    "    table = np.stack((NDVI.ravel(),EVI.ravel(),NDWI.ravel(),LST.ravel()), axis=1)\n",
    "\n",
    "    return table"
   ]
  },
  {
   "cell_type": "code",
   "execution_count": null,
   "id": "a9898c31-1ad3-4709-9151-c8707dec4c36",
   "metadata": {},
   "outputs": [],
   "source": [
    "# read an input raster to use it as a template when saving results\n",
    "template = './belem/EVI/2021_01_20.EVI.tif'\n",
    "raster_template = rasterio.open(template)"
   ]
  },
  {
   "cell_type": "code",
   "execution_count": null,
   "id": "e722f562-953b-4d68-8859-2d9ebe413677",
   "metadata": {},
   "outputs": [],
   "source": [
    "dates =[ '2021_01_20', '2021_01_21', '2021_01_22','2021_01_23','2021_01_24','2021_01_25', '2021_01_26', '2021_01_27']"
   ]
  },
  {
   "cell_type": "code",
   "execution_count": null,
   "id": "62433ac5-f36f-4145-afce-c72432a3e646",
   "metadata": {},
   "outputs": [],
   "source": [
    "# regr =  RandomForestRegressor()\n",
    "# regr.fit(X=xtrain, y=ytrain)\n",
    "results = []\n",
    "for d in dates:\n",
    "    print('procesing' + d)\n",
    "    scaler = MinMaxScaler()\n",
    "    cube = create_datacube(d)\n",
    "    #scale\n",
    "    cube = scaler.fit_transform(cube)\n",
    "    # predict\n",
    "    # ypred = regr.predict(cube)\n",
    "    # result = ypred.reshape(raster_template.shape)\n",
    "    results.append(cube)"
   ]
  },
  {
   "cell_type": "code",
   "execution_count": null,
   "id": "cdd05c3e-77ae-4c00-8846-9a6c68cb1aee",
   "metadata": {},
   "outputs": [],
   "source": [
    "# results"
   ]
  },
  {
   "cell_type": "code",
   "execution_count": null,
   "id": "3ddf1f2c-5043-406c-99d1-164ad905b532",
   "metadata": {},
   "outputs": [],
   "source": [
    "# another visualization - next to each other\n",
    "extent = raster_template.bounds\n",
    "fig, axes = plt.subplots(2, 4, figsize=(12,10))\n",
    "for ax, r, title in zip(axes.ravel(), results, dates):\n",
    "    print (r.shape)\n",
    "    ax.matshow(r, extent=extent, cmap='RdYlGn')\n",
    "    ax.set_title(title, y=1.15)"
   ]
  },
  {
   "cell_type": "code",
   "execution_count": null,
   "id": "107dabe8-2c77-434e-920b-d03e3a15946a",
   "metadata": {},
   "outputs": [],
   "source": [
    "table_results = np.hstack(results)\n",
    "table_results"
   ]
  },
  {
   "cell_type": "code",
   "execution_count": null,
   "id": "8624060c-6979-4573-91ef-0d4dbf540d52",
   "metadata": {},
   "outputs": [],
   "source": [
    "table_results.shape"
   ]
  },
  {
   "cell_type": "code",
   "execution_count": null,
   "id": "bcfbb97f-e926-498d-88cd-7676cf7da13e",
   "metadata": {},
   "outputs": [],
   "source": [
    "# Segmenting the data - first try with two groups\n",
    "kmeans_labels = KMeans(n_clusters=2, random_state=0).fit_predict(table_results)\n",
    "kmeans_labels"
   ]
  },
  {
   "cell_type": "code",
   "execution_count": null,
   "id": "24ad3ea1-83fa-4383-871c-6b2f9a97c8e3",
   "metadata": {},
   "outputs": [],
   "source": [
    "kmeans_labels.shape"
   ]
  },
  {
   "cell_type": "code",
   "execution_count": null,
   "id": "018d5e03-d091-4628-bb5e-eb411037cb0f",
   "metadata": {},
   "outputs": [],
   "source": [
    "result = kmeans_labels.reshape(raster_template.shape)\n",
    "show(result,cmap='RdYlGn')  #'RdBu'"
   ]
  },
  {
   "cell_type": "code",
   "execution_count": null,
   "id": "1d067381-ad96-4d53-9b0e-21441e7360b5",
   "metadata": {},
   "outputs": [],
   "source": [
    "# execute the extremes\n",
    "kmeans_labels = KMeans(n_clusters=9, random_state=0).fit_predict(table_results)\n",
    "result = kmeans_labels.reshape(raster_template.shape)\n",
    "fig, ax = plt.subplots(figsize=(5, 5))\n",
    "retted = rasterio.plot.show(result, ax=ax, cmap='RdYlGn',title = 'Nine Clusters')\n",
    "im = retted.get_images()[0]\n",
    "fig.colorbar(im, ax=ax)"
   ]
  },
  {
   "cell_type": "code",
   "execution_count": null,
   "id": "5f060d70-86c9-4c3c-84a6-cc6ffc6f091d",
   "metadata": {},
   "outputs": [],
   "source": [
    "# determine the best number of groups via the Elbow method\n",
    "Sum_of_squared_distances = []\n",
    "K = range(1,10)\n",
    "for num_clusters in K:\n",
    "    kmeans = KMeans(n_clusters=num_clusters)\n",
    "    kmeans.fit(table_results)\n",
    "    Sum_of_squared_distances.append(kmeans.inertia_)\n",
    "    print(num_clusters, Sum_of_squared_distances)\n",
    "plt.plot(K, Sum_of_squared_distances,'bx-')\n",
    "plt.xlabel('Values of K') \n",
    "plt.ylabel('Sum of squared distances/Inertia') \n",
    "plt.title('Elbow Method For Optimal ')\n",
    "plt.show()"
   ]
  },
  {
   "cell_type": "code",
   "execution_count": null,
   "id": "32ed3326-37d3-4c9f-91aa-0d71c396e4ad",
   "metadata": {},
   "outputs": [],
   "source": [
    "# execute k-means with five clusters\n",
    "kmeans_labels = KMeans(n_clusters=5, random_state=0).fit_predict(table_results)\n",
    "result = kmeans_labels.reshape(raster_template.shape)\n",
    "fig, ax = plt.subplots(figsize=(5, 5))\n",
    "retted = rasterio.plot.show(result, ax=ax, cmap='RdYlGn',title = 'Four Clusters')\n",
    "im = retted.get_images()[0]\n",
    "fig.colorbar(im, ax=ax)"
   ]
  },
  {
   "cell_type": "code",
   "execution_count": null,
   "id": "09aaa3f4-ecf9-4c52-8e4d-70b020cfbff1",
   "metadata": {},
   "outputs": [],
   "source": [
    "# execute k-means with six clusters\n",
    "kmeans_labels = KMeans(n_clusters=6, random_state=0).fit_predict(table_results)\n",
    "result = kmeans_labels.reshape(raster_template.shape)\n",
    "fig, ax = plt.subplots(figsize=(5, 5))\n",
    "retted = rasterio.plot.show(result, ax=ax, cmap='RdYlGn',title = 'Five Clusters')\n",
    "im = retted.get_images()[0]\n",
    "fig.colorbar(im, ax=ax)"
   ]
  },
  {
   "cell_type": "code",
   "execution_count": null,
   "id": "450c3d7f-7e28-4825-88db-7e85164a8cd6",
   "metadata": {},
   "outputs": [],
   "source": [
    "# save the prediction/result\n",
    "# open the original raster to get the metadata\n",
    "meta = None\n",
    "with rasterio.open(template) as src:\n",
    "    if meta is None:\n",
    "        meta = src.meta.copy()\n",
    "        meta.update(count=0)  # Initialize with no bands\n",
    "\n",
    "# update the band count\n",
    "meta.update(count=1)\n",
    "# Path to save the output GeoTIFF\n",
    "output_path = './belem/image_clust2024.tif'\n",
    "\n",
    "# Write the stacked array to the new GeoTIFF file\n",
    "with rasterio.open(output_path, 'w', **meta) as dst:\n",
    "    dst.write(result[:,:],1)\n",
    "\n",
    "print(f\"Clustered image saved to {output_path}\")"
   ]
  },
  {
   "cell_type": "markdown",
   "id": "386a53bb-2320-4b00-b702-cd9fc4942e49",
   "metadata": {},
   "source": [
    "### Questions?\n",
    "Stay in touch <br>\n",
    "r.aguilar@utwente.nl <br>\n",
    "rosamaguilar@gmail.com<br>\n",
    "https://www.linkedin.com/in/rosamaguilar/"
   ]
  },
  {
   "cell_type": "code",
   "execution_count": null,
   "id": "24c66c72-e994-438b-b89b-d0d05ce3ee35",
   "metadata": {},
   "outputs": [],
   "source": []
  }
 ],
 "metadata": {
  "kernelspec": {
   "display_name": "Python 3 (ipykernel)",
   "language": "python",
   "name": "python3"
  },
  "language_info": {
   "codemirror_mode": {
    "name": "ipython",
    "version": 3
   },
   "file_extension": ".py",
   "mimetype": "text/x-python",
   "name": "python",
   "nbconvert_exporter": "python",
   "pygments_lexer": "ipython3",
   "version": "3.13.0"
  }
 },
 "nbformat": 4,
 "nbformat_minor": 5
}
