{
 "cells": [
  {
   "cell_type": "markdown",
   "id": "314891e2-b0e6-46c8-a859-b95cf607e9fc",
   "metadata": {},
   "source": [
    "## FOSS4G Belem - Brazil 2024\n",
    "## Workshop\n",
    "### Setting the scene - Machine learning  an intro\n",
    "\n",
    "**Dr. Rosa Aguilar**<br>\n",
    "r.aguilar@utwente.nl<br>\n",
    "https://www.linkedin.com/in/rosamaguilar/<br>\n",
    "\n",
    "This workshop provides the fundamentals of machine learning and its practical applications in geospatial science, as well as hands-on experience with open-source tools, e.g., Jupyter Notebooks and Python. The workshop will focus on machine learning, specifically in unsupervised and supervised machine learning approaches. In this way, participants will be able to get a basic understanding of artificial intelligence and how it can be applied to the geospatial domain.\n",
    "\n",
    "**Requirements**\n",
    "Be sure of have a proper working conda environment.\n",
    "The configuration file is available [here](ml_foss4g.yml)\n",
    "\n",
    "The content is presented via the following notebooks:\n",
    "\n",
    "[1. Implementing a machine learning mode - Supervised classification](1.supervised_classification.ipynb) \n",
    "\n",
    "[2. Unsupervised learning - Clustering](2.clustering.ipynb)\n",
    "\n"
   ]
  },
  {
   "cell_type": "markdown",
   "id": "3940ac5d-4e1a-4b43-9518-0207eebb2819",
   "metadata": {},
   "source": [
    "### Questions?\n",
    "Stay in touch <br>\n",
    "r.aguilar@utwente.nl <br>\n",
    "rosamaguilar@gmail.com<br>\n",
    "https://www.linkedin.com/in/rosamaguilar/"
   ]
  }
 ],
 "metadata": {
  "kernelspec": {
   "display_name": "Python 3 (ipykernel)",
   "language": "python",
   "name": "python3"
  },
  "language_info": {
   "codemirror_mode": {
    "name": "ipython",
    "version": 3
   },
   "file_extension": ".py",
   "mimetype": "text/x-python",
   "name": "python",
   "nbconvert_exporter": "python",
   "pygments_lexer": "ipython3",
   "version": "3.13.0"
  }
 },
 "nbformat": 4,
 "nbformat_minor": 5
}
